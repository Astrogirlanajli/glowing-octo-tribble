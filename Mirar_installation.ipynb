{
  "nbformat": 4,
  "nbformat_minor": 0,
  "metadata": {
    "colab": {
      "provenance": []
    },
    "kernelspec": {
      "name": "python3",
      "display_name": "Python 3"
    },
    "language_info": {
      "name": "python"
    }
  },
  "cells": [
    {
      "cell_type": "code",
      "execution_count": null,
      "metadata": {
        "colab": {
          "base_uri": "https://localhost:8080/"
        },
        "id": "sxfNlMMPKX8F",
        "outputId": "f308ad71-82de-4e8f-e078-83ea46b9ebe8"
      },
      "outputs": [
        {
          "output_type": "stream",
          "name": "stdout",
          "text": [
            "Requirement already satisfied: pre-commit in /usr/local/lib/python3.10/dist-packages (3.6.2)\n",
            "Requirement already satisfied: cfgv>=2.0.0 in /usr/local/lib/python3.10/dist-packages (from pre-commit) (3.4.0)\n",
            "Requirement already satisfied: identify>=1.0.0 in /usr/local/lib/python3.10/dist-packages (from pre-commit) (2.5.35)\n",
            "Requirement already satisfied: nodeenv>=0.11.1 in /usr/local/lib/python3.10/dist-packages (from pre-commit) (1.8.0)\n",
            "Requirement already satisfied: pyyaml>=5.1 in /usr/local/lib/python3.10/dist-packages (from pre-commit) (6.0.1)\n",
            "Requirement already satisfied: virtualenv>=20.10.0 in /usr/local/lib/python3.10/dist-packages (from pre-commit) (20.25.1)\n",
            "Requirement already satisfied: setuptools in /usr/local/lib/python3.10/dist-packages (from nodeenv>=0.11.1->pre-commit) (69.1.1)\n",
            "Requirement already satisfied: distlib<1,>=0.3.7 in /usr/local/lib/python3.10/dist-packages (from virtualenv>=20.10.0->pre-commit) (0.3.8)\n",
            "Requirement already satisfied: filelock<4,>=3.12.2 in /usr/local/lib/python3.10/dist-packages (from virtualenv>=20.10.0->pre-commit) (3.13.1)\n",
            "Requirement already satisfied: platformdirs<5,>=3.9.1 in /usr/local/lib/python3.10/dist-packages (from virtualenv>=20.10.0->pre-commit) (4.2.0)\n"
          ]
        }
      ],
      "source": [
        "pip install pre-commit\n"
      ]
    },
    {
      "cell_type": "markdown",
      "source": [
        "Checking..pre-commit installation."
      ],
      "metadata": {
        "id": "TALCENCTLuTy"
      }
    },
    {
      "cell_type": "code",
      "source": [
        "!pre-commit --version"
      ],
      "metadata": {
        "colab": {
          "base_uri": "https://localhost:8080/"
        },
        "id": "bO80YTW6Ler5",
        "outputId": "50cebaff-92d7-4984-bca2-f245bb118d03"
      },
      "execution_count": null,
      "outputs": [
        {
          "output_type": "stream",
          "name": "stdout",
          "text": [
            "pre-commit 3.6.2\n"
          ]
        }
      ]
    },
    {
      "cell_type": "markdown",
      "source": [
        "Install other dependencies: poetry"
      ],
      "metadata": {
        "id": "N-yh0wiWL5lz"
      }
    },
    {
      "cell_type": "code",
      "source": [
        "pip install poetry"
      ],
      "metadata": {
        "colab": {
          "base_uri": "https://localhost:8080/"
        },
        "id": "y-MGh0hUL3f-",
        "outputId": "d7ae6703-1c9d-46cb-80b4-fe8ec7f5bcc2"
      },
      "execution_count": null,
      "outputs": [
        {
          "output_type": "stream",
          "name": "stdout",
          "text": [
            "Requirement already satisfied: poetry in /usr/local/lib/python3.10/dist-packages (1.8.2)\n",
            "Requirement already satisfied: build<2.0.0,>=1.0.3 in /usr/local/lib/python3.10/dist-packages (from poetry) (1.1.1)\n",
            "Requirement already satisfied: cachecontrol[filecache]<0.15.0,>=0.14.0 in /usr/local/lib/python3.10/dist-packages (from poetry) (0.14.0)\n",
            "Requirement already satisfied: cleo<3.0.0,>=2.1.0 in /usr/local/lib/python3.10/dist-packages (from poetry) (2.1.0)\n",
            "Requirement already satisfied: crashtest<0.5.0,>=0.4.1 in /usr/local/lib/python3.10/dist-packages (from poetry) (0.4.1)\n",
            "Requirement already satisfied: dulwich<0.22.0,>=0.21.2 in /usr/local/lib/python3.10/dist-packages (from poetry) (0.21.7)\n",
            "Requirement already satisfied: fastjsonschema<3.0.0,>=2.18.0 in /usr/local/lib/python3.10/dist-packages (from poetry) (2.19.1)\n",
            "Requirement already satisfied: installer<0.8.0,>=0.7.0 in /usr/local/lib/python3.10/dist-packages (from poetry) (0.7.0)\n",
            "Requirement already satisfied: keyring<25.0.0,>=24.0.0 in /usr/local/lib/python3.10/dist-packages (from poetry) (24.3.1)\n",
            "Requirement already satisfied: packaging>=23.1 in /usr/local/lib/python3.10/dist-packages (from poetry) (23.2)\n",
            "Requirement already satisfied: pexpect<5.0.0,>=4.7.0 in /usr/local/lib/python3.10/dist-packages (from poetry) (4.9.0)\n",
            "Requirement already satisfied: pkginfo<2.0.0,>=1.9.4 in /usr/local/lib/python3.10/dist-packages (from poetry) (1.10.0)\n",
            "Requirement already satisfied: platformdirs<5,>=3.0.0 in /usr/local/lib/python3.10/dist-packages (from poetry) (4.2.0)\n",
            "Requirement already satisfied: poetry-core==1.9.0 in /usr/local/lib/python3.10/dist-packages (from poetry) (1.9.0)\n",
            "Requirement already satisfied: poetry-plugin-export<2.0.0,>=1.6.0 in /usr/local/lib/python3.10/dist-packages (from poetry) (1.6.0)\n",
            "Requirement already satisfied: pyproject-hooks<2.0.0,>=1.0.0 in /usr/local/lib/python3.10/dist-packages (from poetry) (1.0.0)\n",
            "Requirement already satisfied: requests<3.0,>=2.26 in /usr/local/lib/python3.10/dist-packages (from poetry) (2.31.0)\n",
            "Requirement already satisfied: requests-toolbelt<2.0.0,>=1.0.0 in /usr/local/lib/python3.10/dist-packages (from poetry) (1.0.0)\n",
            "Requirement already satisfied: shellingham<2.0,>=1.5 in /usr/local/lib/python3.10/dist-packages (from poetry) (1.5.4)\n",
            "Requirement already satisfied: tomli<3.0.0,>=2.0.1 in /usr/local/lib/python3.10/dist-packages (from poetry) (2.0.1)\n",
            "Requirement already satisfied: tomlkit<1.0.0,>=0.11.4 in /usr/local/lib/python3.10/dist-packages (from poetry) (0.12.4)\n",
            "Requirement already satisfied: trove-classifiers>=2022.5.19 in /usr/local/lib/python3.10/dist-packages (from poetry) (2024.3.3)\n",
            "Requirement already satisfied: virtualenv<21.0.0,>=20.23.0 in /usr/local/lib/python3.10/dist-packages (from poetry) (20.25.1)\n",
            "Requirement already satisfied: msgpack<2.0.0,>=0.5.2 in /usr/local/lib/python3.10/dist-packages (from cachecontrol[filecache]<0.15.0,>=0.14.0->poetry) (1.0.7)\n",
            "Requirement already satisfied: filelock>=3.8.0 in /usr/local/lib/python3.10/dist-packages (from cachecontrol[filecache]<0.15.0,>=0.14.0->poetry) (3.13.1)\n",
            "Requirement already satisfied: rapidfuzz<4.0.0,>=3.0.0 in /usr/local/lib/python3.10/dist-packages (from cleo<3.0.0,>=2.1.0->poetry) (3.6.1)\n",
            "Requirement already satisfied: urllib3>=1.25 in /usr/local/lib/python3.10/dist-packages (from dulwich<0.22.0,>=0.21.2->poetry) (1.26.18)\n",
            "Requirement already satisfied: jaraco.classes in /usr/local/lib/python3.10/dist-packages (from keyring<25.0.0,>=24.0.0->poetry) (3.3.1)\n",
            "Requirement already satisfied: importlib-metadata>=4.11.4 in /usr/local/lib/python3.10/dist-packages (from keyring<25.0.0,>=24.0.0->poetry) (7.0.1)\n",
            "Requirement already satisfied: SecretStorage>=3.2 in /usr/lib/python3/dist-packages (from keyring<25.0.0,>=24.0.0->poetry) (3.3.1)\n",
            "Requirement already satisfied: jeepney>=0.4.2 in /usr/lib/python3/dist-packages (from keyring<25.0.0,>=24.0.0->poetry) (0.7.1)\n",
            "Requirement already satisfied: ptyprocess>=0.5 in /usr/local/lib/python3.10/dist-packages (from pexpect<5.0.0,>=4.7.0->poetry) (0.7.0)\n",
            "Requirement already satisfied: charset-normalizer<4,>=2 in /usr/local/lib/python3.10/dist-packages (from requests<3.0,>=2.26->poetry) (3.3.2)\n",
            "Requirement already satisfied: idna<4,>=2.5 in /usr/local/lib/python3.10/dist-packages (from requests<3.0,>=2.26->poetry) (3.6)\n",
            "Requirement already satisfied: certifi>=2017.4.17 in /usr/local/lib/python3.10/dist-packages (from requests<3.0,>=2.26->poetry) (2024.2.2)\n",
            "Requirement already satisfied: distlib<1,>=0.3.7 in /usr/local/lib/python3.10/dist-packages (from virtualenv<21.0.0,>=20.23.0->poetry) (0.3.8)\n",
            "Requirement already satisfied: zipp>=0.5 in /usr/local/lib/python3.10/dist-packages (from importlib-metadata>=4.11.4->keyring<25.0.0,>=24.0.0->poetry) (3.17.0)\n",
            "Requirement already satisfied: more-itertools in /usr/local/lib/python3.10/dist-packages (from jaraco.classes->keyring<25.0.0,>=24.0.0->poetry) (10.1.0)\n"
          ]
        }
      ]
    },
    {
      "cell_type": "markdown",
      "source": [
        "Checking installation of poetry"
      ],
      "metadata": {
        "id": "dSHqxOepMuvI"
      }
    },
    {
      "cell_type": "code",
      "source": [
        "!poetry --version\n"
      ],
      "metadata": {
        "colab": {
          "base_uri": "https://localhost:8080/"
        },
        "id": "Z5uxU6TyMSEE",
        "outputId": "bff9dab3-10f4-4df0-b66c-aaff95feb91f"
      },
      "execution_count": null,
      "outputs": [
        {
          "output_type": "stream",
          "name": "stdout",
          "text": [
            "\u001b[39;1mPoetry\u001b[39;22m (version \u001b[36m1.8.2\u001b[39m)\n"
          ]
        }
      ]
    },
    {
      "cell_type": "code",
      "source": [
        "pip install mirar"
      ],
      "metadata": {
        "colab": {
          "base_uri": "https://localhost:8080/"
        },
        "id": "SYmhtsuCMyal",
        "outputId": "610eee64-98ec-4df5-9e5e-1022ce1eb636"
      },
      "execution_count": null,
      "outputs": [
        {
          "output_type": "stream",
          "name": "stdout",
          "text": [
            "Requirement already satisfied: mirar in /usr/local/lib/python3.10/dist-packages (0.13.2)\n",
            "Requirement already satisfied: astroplan<0.10,>=0.8 in /usr/local/lib/python3.10/dist-packages (from mirar) (0.9.1)\n",
            "Requirement already satisfied: astropy[all]<7.0,>=6.0 in /usr/local/lib/python3.10/dist-packages (from mirar) (6.0.0)\n",
            "Requirement already satisfied: astroquery<0.5.0,>=0.4.6 in /usr/local/lib/python3.10/dist-packages (from mirar) (0.4.6)\n",
            "Requirement already satisfied: astrosurveyutils<0.0.2,>=0.0.1 in /usr/local/lib/python3.10/dist-packages (from mirar) (0.0.1)\n",
            "Requirement already satisfied: autopep8<3.0.0,>=2.0.2 in /usr/local/lib/python3.10/dist-packages (from mirar) (2.0.4)\n",
            "Requirement already satisfied: avro<2.0.0,>=1.11.3 in /usr/local/lib/python3.10/dist-packages (from mirar) (1.11.3)\n",
            "Requirement already satisfied: black<25.0.0,>=24.1.1 in /usr/local/lib/python3.10/dist-packages (from mirar) (24.2.0)\n",
            "Requirement already satisfied: certifi<2025.0.0,>=2023.7.22 in /usr/local/lib/python3.10/dist-packages (from mirar) (2024.2.2)\n",
            "Requirement already satisfied: confluent-kafka<3.0.0,>=2.3.0 in /usr/local/lib/python3.10/dist-packages (from mirar) (2.3.0)\n",
            "Requirement already satisfied: coveralls[toml]<4.0.0,>=3.3.1 in /usr/local/lib/python3.10/dist-packages (from mirar) (3.3.1)\n",
            "Requirement already satisfied: docker<8.0.0,>=6.1.3 in /usr/local/lib/python3.10/dist-packages (from mirar) (7.0.0)\n",
            "Requirement already satisfied: ephem<5.0.0,>=4.1.5 in /usr/local/lib/python3.10/dist-packages (from mirar) (4.1.5)\n",
            "Requirement already satisfied: fastavro<2.0.0,>=1.7.4 in /usr/local/lib/python3.10/dist-packages (from mirar) (1.9.4)\n",
            "Requirement already satisfied: isort[pyproject]<6.0.0,>=5.12.0 in /usr/local/lib/python3.10/dist-packages (from mirar) (5.13.2)\n",
            "Requirement already satisfied: jupyter<2.0.0,>=1.0.0 in /usr/local/lib/python3.10/dist-packages (from mirar) (1.0.0)\n",
            "Requirement already satisfied: lacosmic<2.0.0,>=1.0.0 in /usr/local/lib/python3.10/dist-packages (from mirar) (1.1.0)\n",
            "Requirement already satisfied: matplotlib<4.0.0,>=3.7.1 in /usr/local/lib/python3.10/dist-packages (from mirar) (3.7.1)\n",
            "Requirement already satisfied: mocpy<0.13.0,>=0.12.0 in /usr/local/lib/python3.10/dist-packages (from mirar) (0.12.0)\n",
            "Requirement already satisfied: mypy<2.0,>=1.3 in /usr/local/lib/python3.10/dist-packages (from mirar) (1.8.0)\n",
            "Requirement already satisfied: numpy<1.27.0,>=1.24.3 in /usr/local/lib/python3.10/dist-packages (from mirar) (1.26.4)\n",
            "Requirement already satisfied: pandas<3.0.0,>=2.0.2 in /usr/local/lib/python3.10/dist-packages (from mirar) (2.2.1)\n",
            "Requirement already satisfied: pandas-stubs<3.0.0.0,>=2.0.1.230501 in /usr/local/lib/python3.10/dist-packages (from mirar) (2.2.0.240218)\n",
            "Requirement already satisfied: penquins<3.0.0,>=2.3.1 in /usr/local/lib/python3.10/dist-packages (from mirar) (2.4.0)\n",
            "Requirement already satisfied: photutils<2.0.0,>=1.8.0 in /usr/local/lib/python3.10/dist-packages (from mirar) (1.11.0)\n",
            "Requirement already satisfied: pre-commit<4.0.0,>=3.6.0 in /usr/local/lib/python3.10/dist-packages (from mirar) (3.6.2)\n",
            "Requirement already satisfied: psycopg[binary]<4.0.0,>=3.1.9 in /usr/local/lib/python3.10/dist-packages (from mirar) (3.1.18)\n",
            "Requirement already satisfied: pyFFTW<0.14.0,>=0.13.1 in /usr/local/lib/python3.10/dist-packages (from mirar) (0.13.1)\n",
            "Requirement already satisfied: pydantic<3.0.0,>=2.1.1 in /usr/local/lib/python3.10/dist-packages (from mirar) (2.6.3)\n",
            "Requirement already satisfied: pydl<2.0.0,>=1.0.0 in /usr/local/lib/python3.10/dist-packages (from mirar) (1.0.0)\n",
            "Requirement already satisfied: pylint<4.0.0,>=2.17.1 in /usr/local/lib/python3.10/dist-packages (from mirar) (3.1.0)\n",
            "Requirement already satisfied: pylint-pydantic<0.4.0,>=0.1.6 in /usr/local/lib/python3.10/dist-packages (from mirar) (0.3.2)\n",
            "Requirement already satisfied: scipy<2.0.0,>=1.12.0 in /usr/local/lib/python3.10/dist-packages (from mirar) (1.12.0)\n",
            "Requirement already satisfied: setuptools<70.0,>=67.8 in /usr/local/lib/python3.10/dist-packages (from mirar) (69.1.1)\n",
            "Requirement already satisfied: sphinx-mdinclude<0.6.0,>=0.5.3 in /usr/local/lib/python3.10/dist-packages (from mirar) (0.5.3)\n",
            "Requirement already satisfied: sqlalchemy<3.0.0,>=2.0.15 in /usr/local/lib/python3.10/dist-packages (from mirar) (2.0.27)\n",
            "Requirement already satisfied: sqlalchemy-utils<0.42.0,>=0.41.1 in /usr/local/lib/python3.10/dist-packages (from mirar) (0.41.1)\n",
            "Requirement already satisfied: toml<0.11.0,>=0.10.2 in /usr/local/lib/python3.10/dist-packages (from mirar) (0.10.2)\n",
            "Requirement already satisfied: types-requests<3.0.0.0,>=2.31.0.1 in /usr/local/lib/python3.10/dist-packages (from mirar) (2.31.0.6)\n",
            "Requirement already satisfied: types-toml<0.11.0.0,>=0.10.8.6 in /usr/local/lib/python3.10/dist-packages (from mirar) (0.10.8.7)\n",
            "Requirement already satisfied: urllib3<2.0.0,>=1.26.16 in /usr/local/lib/python3.10/dist-packages (from mirar) (1.26.18)\n",
            "Requirement already satisfied: watchdog<5,>=3 in /usr/local/lib/python3.10/dist-packages (from mirar) (4.0.0)\n",
            "Requirement already satisfied: wget<4.0,>=3.2 in /usr/local/lib/python3.10/dist-packages (from mirar) (3.2)\n",
            "Requirement already satisfied: wintertoo<2.0.0,>=1.2.0 in /usr/local/lib/python3.10/dist-packages (from mirar) (1.5.0)\n",
            "Requirement already satisfied: pytz in /usr/local/lib/python3.10/dist-packages (from astroplan<0.10,>=0.8->mirar) (2023.4)\n",
            "Requirement already satisfied: six in /usr/local/lib/python3.10/dist-packages (from astroplan<0.10,>=0.8->mirar) (1.16.0)\n",
            "Requirement already satisfied: pyerfa>=2.0 in /usr/local/lib/python3.10/dist-packages (from astropy[all]<7.0,>=6.0->mirar) (2.0.1.1)\n",
            "Requirement already satisfied: astropy-iers-data>=0.2023.10.30.0.29.53 in /usr/local/lib/python3.10/dist-packages (from astropy[all]<7.0,>=6.0->mirar) (0.2024.3.4.0.30.17)\n",
            "Requirement already satisfied: PyYAML>=3.13 in /usr/local/lib/python3.10/dist-packages (from astropy[all]<7.0,>=6.0->mirar) (6.0.1)\n",
            "Requirement already satisfied: packaging>=19.0 in /usr/local/lib/python3.10/dist-packages (from astropy[all]<7.0,>=6.0->mirar) (23.2)\n",
            "Requirement already satisfied: dask[array] in /usr/local/lib/python3.10/dist-packages (from astropy[all]<7.0,>=6.0->mirar) (2023.8.1)\n",
            "Requirement already satisfied: h5py in /usr/local/lib/python3.10/dist-packages (from astropy[all]<7.0,>=6.0->mirar) (3.9.0)\n",
            "Requirement already satisfied: pyarrow>=5.0.0 in /usr/local/lib/python3.10/dist-packages (from astropy[all]<7.0,>=6.0->mirar) (14.0.2)\n",
            "Requirement already satisfied: beautifulsoup4 in /usr/local/lib/python3.10/dist-packages (from astropy[all]<7.0,>=6.0->mirar) (4.12.3)\n",
            "Requirement already satisfied: html5lib in /usr/local/lib/python3.10/dist-packages (from astropy[all]<7.0,>=6.0->mirar) (1.1)\n",
            "Requirement already satisfied: bleach in /usr/local/lib/python3.10/dist-packages (from astropy[all]<7.0,>=6.0->mirar) (6.1.0)\n",
            "Requirement already satisfied: sortedcontainers in /usr/local/lib/python3.10/dist-packages (from astropy[all]<7.0,>=6.0->mirar) (2.4.0)\n",
            "Requirement already satisfied: jplephem in /usr/local/lib/python3.10/dist-packages (from astropy[all]<7.0,>=6.0->mirar) (2.21)\n",
            "Requirement already satisfied: mpmath in /usr/local/lib/python3.10/dist-packages (from astropy[all]<7.0,>=6.0->mirar) (1.3.0)\n",
            "Requirement already satisfied: asdf-astropy>=0.3 in /usr/local/lib/python3.10/dist-packages (from astropy[all]<7.0,>=6.0->mirar) (0.5.0)\n",
            "Requirement already satisfied: bottleneck in /usr/local/lib/python3.10/dist-packages (from astropy[all]<7.0,>=6.0->mirar) (1.3.8)\n",
            "Requirement already satisfied: ipython>=4.2 in /usr/local/lib/python3.10/dist-packages (from astropy[all]<7.0,>=6.0->mirar) (7.34.0)\n",
            "Requirement already satisfied: pytest>=7.0 in /usr/local/lib/python3.10/dist-packages (from astropy[all]<7.0,>=6.0->mirar) (7.4.4)\n",
            "Requirement already satisfied: typing-extensions>=3.10.0.1 in /usr/local/lib/python3.10/dist-packages (from astropy[all]<7.0,>=6.0->mirar) (4.10.0)\n",
            "Requirement already satisfied: fsspec[http]>=2023.4.0 in /usr/local/lib/python3.10/dist-packages (from astropy[all]<7.0,>=6.0->mirar) (2023.6.0)\n",
            "Requirement already satisfied: s3fs>=2023.4.0 in /usr/local/lib/python3.10/dist-packages (from astropy[all]<7.0,>=6.0->mirar) (2023.6.0)\n",
            "Requirement already satisfied: requests>=2.4.3 in /usr/local/lib/python3.10/dist-packages (from astroquery<0.5.0,>=0.4.6->mirar) (2.31.0)\n",
            "Requirement already satisfied: keyring>=4.0 in /usr/local/lib/python3.10/dist-packages (from astroquery<0.5.0,>=0.4.6->mirar) (24.3.1)\n",
            "Requirement already satisfied: pyvo>=1.1 in /usr/local/lib/python3.10/dist-packages (from astroquery<0.5.0,>=0.4.6->mirar) (1.5.1)\n",
            "Requirement already satisfied: cdshealpix in /usr/local/lib/python3.10/dist-packages (from mocpy<0.13.0,>=0.12.0->mirar) (0.6.5)\n",
            "Requirement already satisfied: networkx>=2.5 in /usr/local/lib/python3.10/dist-packages (from mocpy<0.13.0,>=0.12.0->mirar) (3.2.1)\n",
            "Requirement already satisfied: pycodestyle>=2.10.0 in /usr/local/lib/python3.10/dist-packages (from autopep8<3.0.0,>=2.0.2->mirar) (2.11.1)\n",
            "Requirement already satisfied: tomli in /usr/local/lib/python3.10/dist-packages (from autopep8<3.0.0,>=2.0.2->mirar) (2.0.1)\n",
            "Requirement already satisfied: click>=8.0.0 in /usr/local/lib/python3.10/dist-packages (from black<25.0.0,>=24.1.1->mirar) (8.1.7)\n",
            "Requirement already satisfied: mypy-extensions>=0.4.3 in /usr/local/lib/python3.10/dist-packages (from black<25.0.0,>=24.1.1->mirar) (1.0.0)\n",
            "Requirement already satisfied: pathspec>=0.9.0 in /usr/local/lib/python3.10/dist-packages (from black<25.0.0,>=24.1.1->mirar) (0.12.1)\n",
            "Requirement already satisfied: platformdirs>=2 in /usr/local/lib/python3.10/dist-packages (from black<25.0.0,>=24.1.1->mirar) (4.2.0)\n",
            "\u001b[33mWARNING: coveralls 3.3.1 does not provide the extra 'toml'\u001b[0m\u001b[33m\n",
            "\u001b[0mRequirement already satisfied: coverage!=6.0.*,!=6.1,!=6.1.1,<7.0,>=4.1 in /usr/local/lib/python3.10/dist-packages (from coveralls[toml]<4.0.0,>=3.3.1->mirar) (6.5.0)\n",
            "Requirement already satisfied: docopt>=0.6.1 in /usr/local/lib/python3.10/dist-packages (from coveralls[toml]<4.0.0,>=3.3.1->mirar) (0.6.2)\n",
            "\u001b[33mWARNING: isort 5.13.2 does not provide the extra 'pyproject'\u001b[0m\u001b[33m\n",
            "\u001b[0mRequirement already satisfied: notebook in /usr/local/lib/python3.10/dist-packages (from jupyter<2.0.0,>=1.0.0->mirar) (6.5.5)\n",
            "Requirement already satisfied: qtconsole in /usr/local/lib/python3.10/dist-packages (from jupyter<2.0.0,>=1.0.0->mirar) (5.5.1)\n",
            "Requirement already satisfied: jupyter-console in /usr/local/lib/python3.10/dist-packages (from jupyter<2.0.0,>=1.0.0->mirar) (6.1.0)\n",
            "Requirement already satisfied: nbconvert in /usr/local/lib/python3.10/dist-packages (from jupyter<2.0.0,>=1.0.0->mirar) (7.16.2)\n",
            "Requirement already satisfied: ipykernel in /usr/local/lib/python3.10/dist-packages (from jupyter<2.0.0,>=1.0.0->mirar) (5.5.6)\n",
            "Requirement already satisfied: ipywidgets in /usr/local/lib/python3.10/dist-packages (from jupyter<2.0.0,>=1.0.0->mirar) (7.7.1)\n",
            "Requirement already satisfied: contourpy>=1.0.1 in /usr/local/lib/python3.10/dist-packages (from matplotlib<4.0.0,>=3.7.1->mirar) (1.2.0)\n",
            "Requirement already satisfied: cycler>=0.10 in /usr/local/lib/python3.10/dist-packages (from matplotlib<4.0.0,>=3.7.1->mirar) (0.12.1)\n",
            "Requirement already satisfied: fonttools>=4.22.0 in /usr/local/lib/python3.10/dist-packages (from matplotlib<4.0.0,>=3.7.1->mirar) (4.49.0)\n",
            "Requirement already satisfied: kiwisolver>=1.0.1 in /usr/local/lib/python3.10/dist-packages (from matplotlib<4.0.0,>=3.7.1->mirar) (1.4.5)\n",
            "Requirement already satisfied: pillow>=6.2.0 in /usr/local/lib/python3.10/dist-packages (from matplotlib<4.0.0,>=3.7.1->mirar) (9.4.0)\n",
            "Requirement already satisfied: pyparsing>=2.3.1 in /usr/local/lib/python3.10/dist-packages (from matplotlib<4.0.0,>=3.7.1->mirar) (3.1.1)\n",
            "Requirement already satisfied: python-dateutil>=2.7 in /usr/local/lib/python3.10/dist-packages (from matplotlib<4.0.0,>=3.7.1->mirar) (2.8.2)\n",
            "Requirement already satisfied: tzdata>=2022.7 in /usr/local/lib/python3.10/dist-packages (from pandas<3.0.0,>=2.0.2->mirar) (2024.1)\n",
            "Requirement already satisfied: types-pytz>=2022.1.1 in /usr/local/lib/python3.10/dist-packages (from pandas-stubs<3.0.0.0,>=2.0.1.230501->mirar) (2024.1.0.20240203)\n",
            "Requirement already satisfied: pymongo>=3.10.1 in /usr/local/lib/python3.10/dist-packages (from penquins<3.0.0,>=2.3.1->mirar) (4.6.2)\n",
            "Requirement already satisfied: tqdm>=4.46.0 in /usr/local/lib/python3.10/dist-packages (from penquins<3.0.0,>=2.3.1->mirar) (4.66.2)\n",
            "Requirement already satisfied: cfgv>=2.0.0 in /usr/local/lib/python3.10/dist-packages (from pre-commit<4.0.0,>=3.6.0->mirar) (3.4.0)\n",
            "Requirement already satisfied: identify>=1.0.0 in /usr/local/lib/python3.10/dist-packages (from pre-commit<4.0.0,>=3.6.0->mirar) (2.5.35)\n",
            "Requirement already satisfied: nodeenv>=0.11.1 in /usr/local/lib/python3.10/dist-packages (from pre-commit<4.0.0,>=3.6.0->mirar) (1.8.0)\n",
            "Requirement already satisfied: virtualenv>=20.10.0 in /usr/local/lib/python3.10/dist-packages (from pre-commit<4.0.0,>=3.6.0->mirar) (20.25.1)\n",
            "Requirement already satisfied: psycopg-binary==3.1.18 in /usr/local/lib/python3.10/dist-packages (from psycopg[binary]<4.0.0,>=3.1.9->mirar) (3.1.18)\n",
            "Requirement already satisfied: annotated-types>=0.4.0 in /usr/local/lib/python3.10/dist-packages (from pydantic<3.0.0,>=2.1.1->mirar) (0.6.0)\n",
            "Requirement already satisfied: pydantic-core==2.16.3 in /usr/local/lib/python3.10/dist-packages (from pydantic<3.0.0,>=2.1.1->mirar) (2.16.3)\n",
            "Requirement already satisfied: astroid<=3.2.0-dev0,>=3.1.0 in /usr/local/lib/python3.10/dist-packages (from pylint<4.0.0,>=2.17.1->mirar) (3.1.0)\n",
            "Requirement already satisfied: mccabe<0.8,>=0.6 in /usr/local/lib/python3.10/dist-packages (from pylint<4.0.0,>=2.17.1->mirar) (0.7.0)\n",
            "Requirement already satisfied: tomlkit>=0.10.1 in /usr/local/lib/python3.10/dist-packages (from pylint<4.0.0,>=2.17.1->mirar) (0.12.4)\n",
            "Requirement already satisfied: dill>=0.2 in /usr/local/lib/python3.10/dist-packages (from pylint<4.0.0,>=2.17.1->mirar) (0.3.8)\n",
            "Requirement already satisfied: pylint-plugin-utils in /usr/local/lib/python3.10/dist-packages (from pylint-pydantic<0.4.0,>=0.1.6->mirar) (0.8.2)\n",
            "Requirement already satisfied: mistune<3.0,>=2.0 in /usr/local/lib/python3.10/dist-packages (from sphinx-mdinclude<0.6.0,>=0.5.3->mirar) (2.0.5)\n",
            "Requirement already satisfied: docutils<1.0,>=0.16 in /usr/local/lib/python3.10/dist-packages (from sphinx-mdinclude<0.6.0,>=0.5.3->mirar) (0.18.1)\n",
            "Requirement already satisfied: pygments>=2.8 in /usr/local/lib/python3.10/dist-packages (from sphinx-mdinclude<0.6.0,>=0.5.3->mirar) (2.16.1)\n",
            "Requirement already satisfied: greenlet!=0.4.17 in /usr/local/lib/python3.10/dist-packages (from sqlalchemy<3.0.0,>=2.0.15->mirar) (3.0.3)\n",
            "Requirement already satisfied: types-urllib3 in /usr/local/lib/python3.10/dist-packages (from types-requests<3.0.0.0,>=2.31.0.1->mirar) (1.26.25.14)\n",
            "Requirement already satisfied: jsonschema in /usr/local/lib/python3.10/dist-packages (from wintertoo<2.0.0,>=1.2.0->mirar) (4.19.2)\n",
            "Requirement already satisfied: bcrypt in /usr/local/lib/python3.10/dist-packages (from wintertoo<2.0.0,>=1.2.0->mirar) (4.1.2)\n",
            "Requirement already satisfied: asdf>=2.13 in /usr/local/lib/python3.10/dist-packages (from asdf-astropy>=0.3->astropy[all]<7.0,>=6.0->mirar) (3.1.0)\n",
            "Requirement already satisfied: asdf-coordinates-schemas>=0.1 in /usr/local/lib/python3.10/dist-packages (from asdf-astropy>=0.3->astropy[all]<7.0,>=6.0->mirar) (0.2.0)\n",
            "Requirement already satisfied: asdf-transform-schemas>=0.2.2 in /usr/local/lib/python3.10/dist-packages (from asdf-astropy>=0.3->astropy[all]<7.0,>=6.0->mirar) (0.4.0)\n",
            "Requirement already satisfied: soupsieve>1.2 in /usr/local/lib/python3.10/dist-packages (from beautifulsoup4->astropy[all]<7.0,>=6.0->mirar) (2.5)\n",
            "Requirement already satisfied: aiohttp!=4.0.0a0,!=4.0.0a1 in /usr/local/lib/python3.10/dist-packages (from fsspec[http]>=2023.4.0->astropy[all]<7.0,>=6.0->mirar) (3.9.3)\n",
            "Requirement already satisfied: webencodings in /usr/local/lib/python3.10/dist-packages (from html5lib->astropy[all]<7.0,>=6.0->mirar) (0.5.1)\n",
            "Requirement already satisfied: jedi>=0.16 in /usr/local/lib/python3.10/dist-packages (from ipython>=4.2->astropy[all]<7.0,>=6.0->mirar) (0.19.1)\n",
            "Requirement already satisfied: decorator in /usr/local/lib/python3.10/dist-packages (from ipython>=4.2->astropy[all]<7.0,>=6.0->mirar) (4.4.2)\n",
            "Requirement already satisfied: pickleshare in /usr/local/lib/python3.10/dist-packages (from ipython>=4.2->astropy[all]<7.0,>=6.0->mirar) (0.7.5)\n",
            "Requirement already satisfied: traitlets>=4.2 in /usr/local/lib/python3.10/dist-packages (from ipython>=4.2->astropy[all]<7.0,>=6.0->mirar) (5.7.1)\n",
            "Requirement already satisfied: prompt-toolkit!=3.0.0,!=3.0.1,<3.1.0,>=2.0.0 in /usr/local/lib/python3.10/dist-packages (from ipython>=4.2->astropy[all]<7.0,>=6.0->mirar) (3.0.43)\n",
            "Requirement already satisfied: backcall in /usr/local/lib/python3.10/dist-packages (from ipython>=4.2->astropy[all]<7.0,>=6.0->mirar) (0.2.0)\n",
            "Requirement already satisfied: matplotlib-inline in /usr/local/lib/python3.10/dist-packages (from ipython>=4.2->astropy[all]<7.0,>=6.0->mirar) (0.1.6)\n",
            "Requirement already satisfied: pexpect>4.3 in /usr/local/lib/python3.10/dist-packages (from ipython>=4.2->astropy[all]<7.0,>=6.0->mirar) (4.9.0)\n",
            "Requirement already satisfied: jaraco.classes in /usr/local/lib/python3.10/dist-packages (from keyring>=4.0->astroquery<0.5.0,>=0.4.6->mirar) (3.3.1)\n",
            "Requirement already satisfied: importlib-metadata>=4.11.4 in /usr/local/lib/python3.10/dist-packages (from keyring>=4.0->astroquery<0.5.0,>=0.4.6->mirar) (7.0.1)\n",
            "Requirement already satisfied: SecretStorage>=3.2 in /usr/lib/python3/dist-packages (from keyring>=4.0->astroquery<0.5.0,>=0.4.6->mirar) (3.3.1)\n",
            "Requirement already satisfied: jeepney>=0.4.2 in /usr/lib/python3/dist-packages (from keyring>=4.0->astroquery<0.5.0,>=0.4.6->mirar) (0.7.1)\n",
            "Requirement already satisfied: dnspython<3.0.0,>=1.16.0 in /usr/local/lib/python3.10/dist-packages (from pymongo>=3.10.1->penquins<3.0.0,>=2.3.1->mirar) (2.6.1)\n",
            "Requirement already satisfied: iniconfig in /usr/local/lib/python3.10/dist-packages (from pytest>=7.0->astropy[all]<7.0,>=6.0->mirar) (2.0.0)\n",
            "Requirement already satisfied: pluggy<2.0,>=0.12 in /usr/local/lib/python3.10/dist-packages (from pytest>=7.0->astropy[all]<7.0,>=6.0->mirar) (1.4.0)\n",
            "Requirement already satisfied: exceptiongroup>=1.0.0rc8 in /usr/local/lib/python3.10/dist-packages (from pytest>=7.0->astropy[all]<7.0,>=6.0->mirar) (1.2.0)\n",
            "Requirement already satisfied: charset-normalizer<4,>=2 in /usr/local/lib/python3.10/dist-packages (from requests>=2.4.3->astroquery<0.5.0,>=0.4.6->mirar) (3.3.2)\n",
            "Requirement already satisfied: idna<4,>=2.5 in /usr/local/lib/python3.10/dist-packages (from requests>=2.4.3->astroquery<0.5.0,>=0.4.6->mirar) (3.6)\n",
            "Requirement already satisfied: aiobotocore~=2.5.0 in /usr/local/lib/python3.10/dist-packages (from s3fs>=2023.4.0->astropy[all]<7.0,>=6.0->mirar) (2.5.4)\n",
            "Requirement already satisfied: distlib<1,>=0.3.7 in /usr/local/lib/python3.10/dist-packages (from virtualenv>=20.10.0->pre-commit<4.0.0,>=3.6.0->mirar) (0.3.8)\n",
            "Requirement already satisfied: filelock<4,>=3.12.2 in /usr/local/lib/python3.10/dist-packages (from virtualenv>=20.10.0->pre-commit<4.0.0,>=3.6.0->mirar) (3.13.1)\n",
            "Requirement already satisfied: cloudpickle>=1.5.0 in /usr/local/lib/python3.10/dist-packages (from dask[array]->astropy[all]<7.0,>=6.0->mirar) (2.2.1)\n",
            "Requirement already satisfied: partd>=1.2.0 in /usr/local/lib/python3.10/dist-packages (from dask[array]->astropy[all]<7.0,>=6.0->mirar) (1.4.1)\n",
            "Requirement already satisfied: toolz>=0.10.0 in /usr/local/lib/python3.10/dist-packages (from dask[array]->astropy[all]<7.0,>=6.0->mirar) (0.12.1)\n",
            "Requirement already satisfied: ipython-genutils in /usr/local/lib/python3.10/dist-packages (from ipykernel->jupyter<2.0.0,>=1.0.0->mirar) (0.2.0)\n",
            "Requirement already satisfied: jupyter-client in /usr/local/lib/python3.10/dist-packages (from ipykernel->jupyter<2.0.0,>=1.0.0->mirar) (6.1.12)\n",
            "Requirement already satisfied: tornado>=4.2 in /usr/local/lib/python3.10/dist-packages (from ipykernel->jupyter<2.0.0,>=1.0.0->mirar) (6.3.2)\n",
            "Requirement already satisfied: widgetsnbextension~=3.6.0 in /usr/local/lib/python3.10/dist-packages (from ipywidgets->jupyter<2.0.0,>=1.0.0->mirar) (3.6.6)\n",
            "Requirement already satisfied: jupyterlab-widgets>=1.0.0 in /usr/local/lib/python3.10/dist-packages (from ipywidgets->jupyter<2.0.0,>=1.0.0->mirar) (3.0.10)\n",
            "Requirement already satisfied: attrs>=22.2.0 in /usr/local/lib/python3.10/dist-packages (from jsonschema->wintertoo<2.0.0,>=1.2.0->mirar) (23.2.0)\n",
            "Requirement already satisfied: jsonschema-specifications>=2023.03.6 in /usr/local/lib/python3.10/dist-packages (from jsonschema->wintertoo<2.0.0,>=1.2.0->mirar) (2023.12.1)\n",
            "Requirement already satisfied: referencing>=0.28.4 in /usr/local/lib/python3.10/dist-packages (from jsonschema->wintertoo<2.0.0,>=1.2.0->mirar) (0.33.0)\n",
            "Requirement already satisfied: rpds-py>=0.7.1 in /usr/local/lib/python3.10/dist-packages (from jsonschema->wintertoo<2.0.0,>=1.2.0->mirar) (0.18.0)\n",
            "Requirement already satisfied: defusedxml in /usr/local/lib/python3.10/dist-packages (from nbconvert->jupyter<2.0.0,>=1.0.0->mirar) (0.7.1)\n",
            "Requirement already satisfied: jinja2>=3.0 in /usr/local/lib/python3.10/dist-packages (from nbconvert->jupyter<2.0.0,>=1.0.0->mirar) (3.1.3)\n",
            "Requirement already satisfied: jupyter-core>=4.7 in /usr/local/lib/python3.10/dist-packages (from nbconvert->jupyter<2.0.0,>=1.0.0->mirar) (5.7.1)\n",
            "Requirement already satisfied: jupyterlab-pygments in /usr/local/lib/python3.10/dist-packages (from nbconvert->jupyter<2.0.0,>=1.0.0->mirar) (0.3.0)\n",
            "Requirement already satisfied: markupsafe>=2.0 in /usr/local/lib/python3.10/dist-packages (from nbconvert->jupyter<2.0.0,>=1.0.0->mirar) (2.1.5)\n",
            "Requirement already satisfied: nbclient>=0.5.0 in /usr/local/lib/python3.10/dist-packages (from nbconvert->jupyter<2.0.0,>=1.0.0->mirar) (0.9.0)\n",
            "Requirement already satisfied: nbformat>=5.7 in /usr/local/lib/python3.10/dist-packages (from nbconvert->jupyter<2.0.0,>=1.0.0->mirar) (5.9.2)\n",
            "Requirement already satisfied: pandocfilters>=1.4.1 in /usr/local/lib/python3.10/dist-packages (from nbconvert->jupyter<2.0.0,>=1.0.0->mirar) (1.5.1)\n",
            "Requirement already satisfied: tinycss2 in /usr/local/lib/python3.10/dist-packages (from nbconvert->jupyter<2.0.0,>=1.0.0->mirar) (1.2.1)\n",
            "Requirement already satisfied: pyzmq<25,>=17 in /usr/local/lib/python3.10/dist-packages (from notebook->jupyter<2.0.0,>=1.0.0->mirar) (23.2.1)\n",
            "Requirement already satisfied: argon2-cffi in /usr/local/lib/python3.10/dist-packages (from notebook->jupyter<2.0.0,>=1.0.0->mirar) (23.1.0)\n",
            "Requirement already satisfied: nest-asyncio>=1.5 in /usr/local/lib/python3.10/dist-packages (from notebook->jupyter<2.0.0,>=1.0.0->mirar) (1.6.0)\n",
            "Requirement already satisfied: Send2Trash>=1.8.0 in /usr/local/lib/python3.10/dist-packages (from notebook->jupyter<2.0.0,>=1.0.0->mirar) (1.8.2)\n",
            "Requirement already satisfied: terminado>=0.8.3 in /usr/local/lib/python3.10/dist-packages (from notebook->jupyter<2.0.0,>=1.0.0->mirar) (0.18.0)\n",
            "Requirement already satisfied: prometheus-client in /usr/local/lib/python3.10/dist-packages (from notebook->jupyter<2.0.0,>=1.0.0->mirar) (0.20.0)\n",
            "Requirement already satisfied: nbclassic>=0.4.7 in /usr/local/lib/python3.10/dist-packages (from notebook->jupyter<2.0.0,>=1.0.0->mirar) (1.0.0)\n",
            "Requirement already satisfied: qtpy>=2.4.0 in /usr/local/lib/python3.10/dist-packages (from qtconsole->jupyter<2.0.0,>=1.0.0->mirar) (2.4.1)\n",
            "Requirement already satisfied: botocore<1.31.18,>=1.31.17 in /usr/local/lib/python3.10/dist-packages (from aiobotocore~=2.5.0->s3fs>=2023.4.0->astropy[all]<7.0,>=6.0->mirar) (1.31.17)\n",
            "Requirement already satisfied: wrapt<2.0.0,>=1.10.10 in /usr/local/lib/python3.10/dist-packages (from aiobotocore~=2.5.0->s3fs>=2023.4.0->astropy[all]<7.0,>=6.0->mirar) (1.14.1)\n",
            "Requirement already satisfied: aioitertools<1.0.0,>=0.5.1 in /usr/local/lib/python3.10/dist-packages (from aiobotocore~=2.5.0->s3fs>=2023.4.0->astropy[all]<7.0,>=6.0->mirar) (0.11.0)\n",
            "Requirement already satisfied: aiosignal>=1.1.2 in /usr/local/lib/python3.10/dist-packages (from aiohttp!=4.0.0a0,!=4.0.0a1->fsspec[http]>=2023.4.0->astropy[all]<7.0,>=6.0->mirar) (1.3.1)\n",
            "Requirement already satisfied: frozenlist>=1.1.1 in /usr/local/lib/python3.10/dist-packages (from aiohttp!=4.0.0a0,!=4.0.0a1->fsspec[http]>=2023.4.0->astropy[all]<7.0,>=6.0->mirar) (1.4.1)\n",
            "Requirement already satisfied: multidict<7.0,>=4.5 in /usr/local/lib/python3.10/dist-packages (from aiohttp!=4.0.0a0,!=4.0.0a1->fsspec[http]>=2023.4.0->astropy[all]<7.0,>=6.0->mirar) (6.0.5)\n",
            "Requirement already satisfied: yarl<2.0,>=1.0 in /usr/local/lib/python3.10/dist-packages (from aiohttp!=4.0.0a0,!=4.0.0a1->fsspec[http]>=2023.4.0->astropy[all]<7.0,>=6.0->mirar) (1.9.4)\n",
            "Requirement already satisfied: async-timeout<5.0,>=4.0 in /usr/local/lib/python3.10/dist-packages (from aiohttp!=4.0.0a0,!=4.0.0a1->fsspec[http]>=2023.4.0->astropy[all]<7.0,>=6.0->mirar) (4.0.3)\n",
            "Requirement already satisfied: asdf-standard>=1.0.1 in /usr/local/lib/python3.10/dist-packages (from asdf>=2.13->asdf-astropy>=0.3->astropy[all]<7.0,>=6.0->mirar) (1.1.0)\n",
            "Requirement already satisfied: asdf-unit-schemas>=0.1 in /usr/local/lib/python3.10/dist-packages (from asdf>=2.13->asdf-astropy>=0.3->astropy[all]<7.0,>=6.0->mirar) (0.1.0)\n",
            "Requirement already satisfied: jmespath>=0.6.2 in /usr/local/lib/python3.10/dist-packages (from asdf>=2.13->asdf-astropy>=0.3->astropy[all]<7.0,>=6.0->mirar) (1.0.1)\n",
            "Requirement already satisfied: semantic-version>=2.8 in /usr/local/lib/python3.10/dist-packages (from asdf>=2.13->asdf-astropy>=0.3->astropy[all]<7.0,>=6.0->mirar) (2.10.0)\n",
            "Requirement already satisfied: zipp>=0.5 in /usr/local/lib/python3.10/dist-packages (from importlib-metadata>=4.11.4->keyring>=4.0->astroquery<0.5.0,>=0.4.6->mirar) (3.17.0)\n",
            "Requirement already satisfied: parso<0.9.0,>=0.8.3 in /usr/local/lib/python3.10/dist-packages (from jedi>=0.16->ipython>=4.2->astropy[all]<7.0,>=6.0->mirar) (0.8.3)\n",
            "Requirement already satisfied: jupyter-server>=1.8 in /usr/local/lib/python3.10/dist-packages (from nbclassic>=0.4.7->notebook->jupyter<2.0.0,>=1.0.0->mirar) (1.24.0)\n",
            "Requirement already satisfied: notebook-shim>=0.2.3 in /usr/local/lib/python3.10/dist-packages (from nbclassic>=0.4.7->notebook->jupyter<2.0.0,>=1.0.0->mirar) (0.2.4)\n",
            "Requirement already satisfied: fastjsonschema in /usr/local/lib/python3.10/dist-packages (from nbformat>=5.7->nbconvert->jupyter<2.0.0,>=1.0.0->mirar) (2.19.1)\n",
            "Requirement already satisfied: locket in /usr/local/lib/python3.10/dist-packages (from partd>=1.2.0->dask[array]->astropy[all]<7.0,>=6.0->mirar) (1.0.0)\n",
            "Requirement already satisfied: ptyprocess>=0.5 in /usr/local/lib/python3.10/dist-packages (from pexpect>4.3->ipython>=4.2->astropy[all]<7.0,>=6.0->mirar) (0.7.0)\n",
            "Requirement already satisfied: wcwidth in /usr/local/lib/python3.10/dist-packages (from prompt-toolkit!=3.0.0,!=3.0.1,<3.1.0,>=2.0.0->ipython>=4.2->astropy[all]<7.0,>=6.0->mirar) (0.2.13)\n",
            "Requirement already satisfied: argon2-cffi-bindings in /usr/local/lib/python3.10/dist-packages (from argon2-cffi->notebook->jupyter<2.0.0,>=1.0.0->mirar) (21.2.0)\n",
            "Requirement already satisfied: more-itertools in /usr/local/lib/python3.10/dist-packages (from jaraco.classes->keyring>=4.0->astroquery<0.5.0,>=0.4.6->mirar) (10.1.0)\n",
            "Requirement already satisfied: anyio<4,>=3.1.0 in /usr/local/lib/python3.10/dist-packages (from jupyter-server>=1.8->nbclassic>=0.4.7->notebook->jupyter<2.0.0,>=1.0.0->mirar) (3.7.1)\n",
            "Requirement already satisfied: websocket-client in /usr/local/lib/python3.10/dist-packages (from jupyter-server>=1.8->nbclassic>=0.4.7->notebook->jupyter<2.0.0,>=1.0.0->mirar) (1.7.0)\n",
            "Requirement already satisfied: cffi>=1.0.1 in /usr/local/lib/python3.10/dist-packages (from argon2-cffi-bindings->argon2-cffi->notebook->jupyter<2.0.0,>=1.0.0->mirar) (1.16.0)\n",
            "Requirement already satisfied: sniffio>=1.1 in /usr/local/lib/python3.10/dist-packages (from anyio<4,>=3.1.0->jupyter-server>=1.8->nbclassic>=0.4.7->notebook->jupyter<2.0.0,>=1.0.0->mirar) (1.3.1)\n",
            "Requirement already satisfied: pycparser in /usr/local/lib/python3.10/dist-packages (from cffi>=1.0.1->argon2-cffi-bindings->argon2-cffi->notebook->jupyter<2.0.0,>=1.0.0->mirar) (2.21)\n"
          ]
        }
      ]
    },
    {
      "cell_type": "markdown",
      "source": [
        "Checking the installation of mirar.."
      ],
      "metadata": {
        "id": "0b4jc9PFNBUm"
      }
    },
    {
      "cell_type": "code",
      "source": [
        "!pip show mirar\n"
      ],
      "metadata": {
        "colab": {
          "base_uri": "https://localhost:8080/"
        },
        "id": "5_EMLdK5M-y4",
        "outputId": "4792bd22-1d44-4944-b4d3-a02cbc4ad55c"
      },
      "execution_count": null,
      "outputs": [
        {
          "output_type": "stream",
          "name": "stdout",
          "text": [
            "Name: mirar\n",
            "Version: 0.13.2\n",
            "Summary: Modular Image Reduction and Analysis Resource (MIRAR)\n",
            "Home-page: https://github.com/winter-telescope/mirar\n",
            "Author: Robert Stein\n",
            "Author-email: rdstein@caltech.edu\n",
            "License: MIT\n",
            "Location: /usr/local/lib/python3.10/dist-packages\n",
            "Requires: astroplan, astropy, astroquery, astrosurveyutils, autopep8, avro, black, certifi, confluent-kafka, coveralls, docker, ephem, fastavro, isort, jupyter, lacosmic, matplotlib, mocpy, mypy, numpy, pandas, pandas-stubs, penquins, photutils, pre-commit, psycopg, pydantic, pydl, pyFFTW, pylint, pylint-pydantic, scipy, setuptools, sphinx-mdinclude, sqlalchemy, sqlalchemy-utils, toml, types-requests, types-toml, urllib3, watchdog, wget, wintertoo\n",
            "Required-by: \n"
          ]
        }
      ]
    },
    {
      "cell_type": "markdown",
      "source": [
        "Checking if it is able to work or not"
      ],
      "metadata": {
        "id": "iY7FHUf8O64w"
      }
    },
    {
      "cell_type": "code",
      "source": [
        "from mirar.paths import PACKAGE_NAME\n",
        "print(\"This is the {PACKAGE_NAME} package\")"
      ],
      "metadata": {
        "colab": {
          "base_uri": "https://localhost:8080/"
        },
        "id": "3Rch8zA_N1c9",
        "outputId": "98501e52-6416-4585-fef3-530e728bc127"
      },
      "execution_count": null,
      "outputs": [
        {
          "output_type": "stream",
          "name": "stdout",
          "text": [
            "This is the {PACKAGE_NAME} package\n"
          ]
        }
      ]
    },
    {
      "cell_type": "code",
      "source": [],
      "metadata": {
        "id": "hZVpHQP2O0wT"
      },
      "execution_count": null,
      "outputs": []
    }
  ]
}